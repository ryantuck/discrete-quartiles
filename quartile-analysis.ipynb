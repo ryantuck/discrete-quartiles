{
 "cells": [
  {
   "cell_type": "markdown",
   "metadata": {},
   "source": [
    "# quartile analysis\n",
    "\n",
    "histograms of data sets for each month/year combination are fit to a curve. 1st, 2nd, and 3rd quartile data is then computed from this curve.\n",
    "\n",
    "the aggregate quartile data is output to `csv` files. \n",
    "\n",
    "a few plots are generated to examine year-over-year performance.\n",
    "\n",
    "---\n",
    "\n",
    "## first, we need to define a few functions"
   ]
  },
  {
   "cell_type": "code",
   "execution_count": 26,
   "metadata": {
    "collapsed": true
   },
   "outputs": [],
   "source": [
    "# import relevant modules\n",
    "import scipy.stats\n",
    "import pandas as pd\n",
    "import numpy as np\n",
    "import matplotlib.pyplot as plt\n",
    "%matplotlib inline"
   ]
  },
  {
   "cell_type": "code",
   "execution_count": 36,
   "metadata": {
    "collapsed": true
   },
   "outputs": [],
   "source": [
    "\n",
    "\n",
    "def get_quartiles(data):\n",
    "    # generate fit function\n",
    "    z = scipy.stats.gaussian_kde(data)\n",
    "\n",
    "    # get a bunch of x data\n",
    "    x = np.linspace(0,40,1000)\n",
    "    # fit y coordinates to x data\n",
    "    y = z(x)\n",
    "\n",
    "    # normalize y so sum = 1\n",
    "    y_norm = [i/sum(y) for i in y]\n",
    "\n",
    "    # compute quartiles\n",
    "    fit_quartiles = {}\n",
    "    for lim in [0.25, 0.5, 0.75]:\n",
    "        r = 0\n",
    "        idx = 0\n",
    "        while r + y_norm[idx] < lim:\n",
    "            r += y_norm[idx]\n",
    "            idx += 1\n",
    "        val = x[idx]\n",
    "\n",
    "        # add to our fit summary data\n",
    "        fit_quartiles[str(lim)] = val\n",
    "    \n",
    "    return fit_quartiles\n"
   ]
  },
  {
   "cell_type": "code",
   "execution_count": 37,
   "metadata": {
    "collapsed": false
   },
   "outputs": [],
   "source": [
    "def flatten_results(my_results):\n",
    "    flat_results = []\n",
    "    \n",
    "    for r in my_results:\n",
    "        f = {}\n",
    "        f['month'] = r['month']\n",
    "        f['year'] = r['year']\n",
    "        f['quartile_1'] = r['quartiles']['0.25']\n",
    "        f['quartile_2'] = r['quartiles']['0.5']\n",
    "        f['quartile_3'] = r['quartiles']['0.75']\n",
    "        flat_results.append(f)\n",
    "    return flat_results"
   ]
  },
  {
   "cell_type": "code",
   "execution_count": 38,
   "metadata": {
    "collapsed": true
   },
   "outputs": [],
   "source": [
    "def generate_quartile_result_file(in_file_name):\n",
    "    \n",
    "    # read in data\n",
    "    df = pd.read_csv('{i}.csv'.format(i=in_file_name))\n",
    "\n",
    "    # get distinct year and month values\n",
    "    years = set(df['year'])\n",
    "    months = set(df['month'])\n",
    "    \n",
    "    # create results dictionary\n",
    "    results = []\n",
    "\n",
    "    # iterate through year/month combos and get quartile data\n",
    "    for year in years:\n",
    "        for month in months:\n",
    "            days = list(df[(df['month'] == month) & (df['year'] == year)]['days'])\n",
    "\n",
    "            if len(days) < 2:\n",
    "                # no values, break out of loop (oct 2016 for example)\n",
    "                continue\n",
    "\n",
    "            quartile_data = get_quartiles(days)\n",
    "            result = {\n",
    "                'year': year,\n",
    "                'month': month,\n",
    "                'quartiles': quartile_data\n",
    "            }\n",
    "\n",
    "            # add this result to total list\n",
    "            results.append(result)\n",
    "    \n",
    "    flat_results = flatten_results(results)\n",
    "    out_df = pd.DataFrame(flat_results)\n",
    "    out_df.to_csv('out/{o}_results.csv'.format(o=in_file_name), index=False)\n",
    "    \n",
    "    "
   ]
  },
  {
   "cell_type": "code",
   "execution_count": 39,
   "metadata": {
    "collapsed": false
   },
   "outputs": [],
   "source": [
    "def plot_fit(data_sets, title, include_histogram=False):\n",
    "    \n",
    "    fig = plt.figure()\n",
    "    for data in data_sets:\n",
    "    \n",
    "        # generate fit function\n",
    "        z = scipy.stats.gaussian_kde(data)\n",
    "\n",
    "        # get a bunch of x data\n",
    "        x = np.linspace(0,40,1000)\n",
    "        # fit y coordinates to x data\n",
    "        y = z(x)\n",
    "\n",
    "        # plot curve and histogram to show hope dope the pairing is\n",
    "        plt.plot(x,y)\n",
    "        if include_histogram:\n",
    "            plt.hist([j - 0.5 for j in data], normed=True, bins=(max(data)-min(data)))\n",
    "\n",
    "    \n",
    "    axes = plt.gca()\n",
    "    fig.suptitle(title, fontsize=20)\n",
    "    axes.set_xlim([0,25])\n",
    "    plt.show()\n"
   ]
  },
  {
   "cell_type": "markdown",
   "metadata": {},
   "source": [
    "# time for some results!"
   ]
  },
  {
   "cell_type": "code",
   "execution_count": 40,
   "metadata": {
    "collapsed": false
   },
   "outputs": [],
   "source": [
    "# generate output files!\n",
    "for x in ['stock','surf']:\n",
    "    generate_quartile_result_file(x)"
   ]
  },
  {
   "cell_type": "code",
   "execution_count": null,
   "metadata": {
    "collapsed": false
   },
   "outputs": [],
   "source": [
    "# plot some yoy data for both categories\n",
    "for x in ['stock','surf']:\n",
    "\n",
    "    # read in data\n",
    "    df = pd.read_csv('{i}.csv'.format(i=x))\n",
    "    \n",
    "    # generate plots!\n",
    "    for m in ['January', 'February','March']:\n",
    "    \n",
    "        m_df = df[df['month'] == m]\n",
    "\n",
    "        years_data = []\n",
    "        for year in set(m_df['year']):\n",
    "            this_year = list(m_df[m_df['year'] == year]['days'])\n",
    "            years_data.append(this_year)\n",
    "\n",
    "        plot_fit(years_data,m)\n",
    "    "
   ]
  },
  {
   "cell_type": "code",
   "execution_count": null,
   "metadata": {
    "collapsed": true
   },
   "outputs": [],
   "source": []
  }
 ],
 "metadata": {
  "kernelspec": {
   "display_name": "Python 2",
   "language": "python",
   "name": "python2"
  },
  "language_info": {
   "codemirror_mode": {
    "name": "ipython",
    "version": 2
   },
   "file_extension": ".py",
   "mimetype": "text/x-python",
   "name": "python",
   "nbconvert_exporter": "python",
   "pygments_lexer": "ipython2",
   "version": "2.7.10"
  }
 },
 "nbformat": 4,
 "nbformat_minor": 0
}
