{
 "cells": [
  {
   "cell_type": "markdown",
   "metadata": {},
   "source": [
    "# meaningful quartile values from discrete data\n",
    "\n",
    "attempt at figuring out a meaningful value for quartiles of data when that data consists of whole numbers better suited for buckets in a histogram than a smooth, continuous distribution."
   ]
  },
  {
   "cell_type": "code",
   "execution_count": 17,
   "metadata": {
    "collapsed": false
   },
   "outputs": [
    {
     "name": "stdout",
     "output_type": "stream",
     "text": [
      "0.25 quartile value: 5.07465066829\n",
      "0.5 quartile value: 6.39215686275\n",
      "0.75 quartile value: 7.73546561482\n"
     ]
    },
    {
     "data": {
      "image/png": "[encoded data removed]",
      "text/plain": [
       "<matplotlib.figure.Figure at 0x10cb12b90>"
      ]
     },
     "metadata": {},
     "output_type": "display_data"
    }
   ],
   "source": [
    "# histogram stuff!\n",
    "\n",
    "%matplotlib inline\n",
    "import pandas as pd\n",
    "import numpy as np\n",
    "import matplotlib.pyplot as plt\n",
    "\n",
    "# read data\n",
    "df = pd.read_csv('data.csv', header=None)\n",
    "\n",
    "# convert to list\n",
    "data = list(df[0])\n",
    "\n",
    "# find max/min values\n",
    "d_min = min(data)\n",
    "d_max = max(data)\n",
    "\n",
    "# generate normalized histogram of relative frequencies\n",
    "y, x = np.histogram(data, bins=(d_max-d_min), normed=True)\n",
    "\n",
    "\n",
    "# iterate through bin values to determine which bucket contains the particular threshold\n",
    "for lim in [0.25, 0.5, 0.75]:\n",
    "    \n",
    "    r = 0\n",
    "    idx = 0\n",
    "    while r + y[idx] < lim:\n",
    "        r += y[idx]\n",
    "        idx += 1\n",
    "    threshold_bucket_value = y[idx]\n",
    "    val = x[idx]\n",
    "\n",
    "    # compute relative percentage of that bucket before which the quartile piece occurs\n",
    "    diff = lim - r\n",
    "    diff_pct = diff/threshold_bucket_value\n",
    "\n",
    "    # output bucket value plus its 3rd quartile percentage sliver\n",
    "    print '{0} quartile value: {1}'.format(lim, diff_pct + val)\n",
    "\n",
    "# plot stuff\n",
    "plt.hist(data, normed=True, bins=(d_max-d_min))\n",
    "plt.show()"
   ]
  },
  {
   "cell_type": "code",
   "execution_count": null,
   "metadata": {
    "collapsed": true
   },
   "outputs": [],
   "source": []
  }
 ],
 "metadata": {
  "kernelspec": {
   "display_name": "Python 2",
   "language": "python",
   "name": "python2"
  },
  "language_info": {
   "codemirror_mode": {
    "name": "ipython",
    "version": 2
   },
   "file_extension": ".py",
   "mimetype": "text/x-python",
   "name": "python",
   "nbconvert_exporter": "python",
   "pygments_lexer": "ipython2",
   "version": "2.7.10"
  }
 },
 "nbformat": 4,
 "nbformat_minor": 0
}
