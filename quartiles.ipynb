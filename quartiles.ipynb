{
 "cells": [
  {
   "cell_type": "markdown",
   "metadata": {},
   "source": [
    "# meaningful quartile values from discrete data\n",
    "\n",
    "attempt at figuring out a meaningful value for quartiles of data when that data consists of whole numbers better suited for buckets in a histogram than a smooth, continuous distribution."
   ]
  },
  {
   "cell_type": "code",
   "execution_count": 61,
   "metadata": {
    "collapsed": false
   },
   "outputs": [
    {
     "name": "stdout",
     "output_type": "stream",
     "text": [
      "0.25 quartile value: 4.57465066829\n",
      "0.5 quartile value: 5.89215686275\n",
      "0.75 quartile value: 7.23546561482\n"
     ]
    },
    {
     "data": {
      "image/png": "[encoded data removed]",
      "text/plain": [
       "<matplotlib.figure.Figure at 0x10fe8db90>"
      ]
     },
     "metadata": {},
     "output_type": "display_data"
    }
   ],
   "source": [
    "# histogram stuff!\n",
    "\n",
    "%matplotlib inline\n",
    "import pandas as pd\n",
    "import numpy as np\n",
    "import matplotlib.pyplot as plt\n",
    "\n",
    "# read data\n",
    "df = pd.read_csv('data.csv', header=None)\n",
    "\n",
    "# convert to list\n",
    "data = list(df[0])\n",
    "\n",
    "# find max/min values\n",
    "d_min = min(data)\n",
    "\n",
    "d_max = max(data)\n",
    "\n",
    "# generate normalized histogram of relative frequencies\n",
    "y, x = np.histogram(data, bins=(d_max-d_min), normed=True)\n",
    "\n",
    "\n",
    "# iterate through bin values to determine which bucket contains the particular threshold\n",
    "hist_quartiles = {}\n",
    "for lim in [0.25, 0.5, 0.75]:\n",
    "    \n",
    "    r = 0\n",
    "    idx = 0\n",
    "    while r + y[idx] < lim:\n",
    "        r += y[idx]\n",
    "        idx += 1\n",
    "    threshold_bucket_value = y[idx]\n",
    "    val = x[idx] - 0.5 # subtract half a bin \n",
    "\n",
    "    # compute relative percentage of that bucket before which the quartile piece occurs\n",
    "    diff = lim - r\n",
    "    diff_pct = diff/threshold_bucket_value\n",
    "    \n",
    "    # compute quartile value\n",
    "    q_val = diff_pct + val\n",
    "    \n",
    "    # add to our histogram summary data\n",
    "    hist_quartiles[str(lim)] = q_val\n",
    "\n",
    "    # output bucket value plus its quartile percentage sliver\n",
    "    print '{0} quartile value: {1}'.format(lim, q_val)\n",
    "\n",
    "# plot stuff\n",
    "plt.hist(data, normed=True, bins=(d_max-d_min))\n",
    "plt.show()"
   ]
  },
  {
   "cell_type": "markdown",
   "metadata": {},
   "source": [
    "# actually fitting the data\n",
    "\n",
    "Getting a nice fit using `scipy.stats`."
   ]
  },
  {
   "cell_type": "code",
   "execution_count": 62,
   "metadata": {
    "collapsed": false
   },
   "outputs": [
    {
     "name": "stdout",
     "output_type": "stream",
     "text": [
      "0.25 quartile value: 4.6046046046\n",
      "0.5 quartile value: 5.88588588589\n",
      "0.75 quartile value: 7.20720720721\n"
     ]
    },
    {
     "data": {
      "image/png": "[encoded data removed]",
      "text/plain": [
       "<matplotlib.figure.Figure at 0x1102bc350>"
      ]
     },
     "metadata": {},
     "output_type": "display_data"
    }
   ],
   "source": [
    "import scipy\n",
    "\n",
    "# generate fit function\n",
    "z = scipy.stats.gaussian_kde(data)\n",
    "\n",
    "# get a bunch of x data\n",
    "x = np.linspace(0,40,1000)\n",
    "# fit y coordinates to x data\n",
    "y = z(x)\n",
    "\n",
    "# plot curve and histogram to show hope dope the pairing is\n",
    "plt.plot(x,y,c='r')\n",
    "plt.hist([j - 0.5 for j in data], normed=True, bins=(d_max-d_min))\n",
    "\n",
    "# normalize y so sum = 1\n",
    "y_norm = [i/sum(y) for i in y]\n",
    "\n",
    "# compute quartiles\n",
    "fit_quartiles = {}\n",
    "for lim in [0.25, 0.5, 0.75]:\n",
    "    r = 0\n",
    "    idx = 0\n",
    "    while r + y_norm[idx] < lim:\n",
    "        r += y_norm[idx]\n",
    "        idx += 1\n",
    "    val = x[idx]\n",
    "    \n",
    "    # add to our fit summary data\n",
    "    fit_quartiles[str(lim)] = val\n",
    "    \n",
    "    # output quartile value\n",
    "    print '{0} quartile value: {1}'.format(lim, val)"
   ]
  },
  {
   "cell_type": "markdown",
   "metadata": {},
   "source": [
    "# conclusion\n",
    "\n",
    "actually, all quartile numbers are *extremely* close to each other!"
   ]
  },
  {
   "cell_type": "code",
   "execution_count": 68,
   "metadata": {
    "collapsed": false
   },
   "outputs": [
    {
     "name": "stdout",
     "output_type": "stream",
     "text": [
      "4.575 / 4.605 = 0.993\n",
      "5.892 / 5.886 = 1.001\n",
      "7.235 / 7.207 = 1.004\n"
     ]
    }
   ],
   "source": [
    "for q in [0.25, 0.5, 0.75]:\n",
    "    h = round(hist_quartiles[str(q)],3)\n",
    "    f = round(fit_quartiles[str(q)],3)\n",
    "    print h, '/', f, '=', round(h/f,3)"
   ]
  },
  {
   "cell_type": "code",
   "execution_count": null,
   "metadata": {
    "collapsed": true
   },
   "outputs": [],
   "source": []
  }
 ],
 "metadata": {
  "kernelspec": {
   "display_name": "Python 2",
   "language": "python",
   "name": "python2"
  },
  "language_info": {
   "codemirror_mode": {
    "name": "ipython",
    "version": 2
   },
   "file_extension": ".py",
   "mimetype": "text/x-python",
   "name": "python",
   "nbconvert_exporter": "python",
   "pygments_lexer": "ipython2",
   "version": "2.7.10"
  }
 },
 "nbformat": 4,
 "nbformat_minor": 0
}
